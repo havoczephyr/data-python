{
 "cells": [
  {
   "cell_type": "code",
   "execution_count": null,
   "metadata": {},
   "outputs": [],
   "source": [
    "#import\n",
    "import plotly\n",
    "from plotly import __version__\n",
    "from plotly.offline import download_plotlyjs, init_notebook_mode, plot, iplot"
   ]
  },
  {
   "cell_type": "markdown",
   "metadata": {},
   "source": [
    "# **Python Lab**\n",
    "\n",
    "## **Part 1**\n",
    "---\n",
    "\n",
    "\n",
    "### **Problem 1**\n",
    "- Create a variable that holds the value of your first name."
   ]
  },
  {
   "cell_type": "code",
   "execution_count": 63,
   "metadata": {},
   "outputs": [],
   "source": [
    "first_name = 'Giovanni'"
   ]
  },
  {
   "cell_type": "markdown",
   "metadata": {},
   "source": [
    "### **Problem 2**\n",
    "- Create a variable that holds the value of your favorite number."
   ]
  },
  {
   "cell_type": "code",
   "execution_count": 64,
   "metadata": {},
   "outputs": [],
   "source": [
    "favorite_number = 9"
   ]
  },
  {
   "cell_type": "markdown",
   "metadata": {},
   "source": [
    "### **Problem 3**\n",
    "- Create a variable that holds a boolean value representing if your hair is brown."
   ]
  },
  {
   "cell_type": "code",
   "execution_count": 65,
   "metadata": {},
   "outputs": [],
   "source": [
    "brown_hair = False"
   ]
  },
  {
   "cell_type": "markdown",
   "metadata": {},
   "source": [
    "### **Problem 4**\n",
    "- Print your first name, by printing the variable created in problem 1."
   ]
  },
  {
   "cell_type": "code",
   "execution_count": 66,
   "metadata": {},
   "outputs": [
    {
     "name": "stdout",
     "output_type": "stream",
     "text": [
      "Giovanni\n"
     ]
    }
   ],
   "source": [
    "first_name = 'Giovanni'\n",
    "\n",
    "print (first_name)"
   ]
  },
  {
   "cell_type": "markdown",
   "metadata": {},
   "source": [
    "### **Problem 5**\n",
    "- Create a variable called `loves_code` and set it equal to true. \n",
    "- Check to see if `loves_code` is equal to true or false. \n",
    "-  If it is true, print \"I love to code!\"\n",
    "-  If it is not, print \"Coding has it's challenges.\""
   ]
  },
  {
   "cell_type": "code",
   "execution_count": 67,
   "metadata": {},
   "outputs": [
    {
     "name": "stdout",
     "output_type": "stream",
     "text": [
      "I love to code!\n"
     ]
    }
   ],
   "source": [
    "loves_code = True\n",
    "\n",
    "if (loves_code == True):\n",
    "    print (\"I love to code!\")\n",
    "else:\n",
    "    print (\"Coding has its challenges.\")"
   ]
  },
  {
   "cell_type": "markdown",
   "metadata": {},
   "source": [
    "### **Problem 6**\n",
    "- Create an array called `colors` and set it equal to a list of at least five colors."
   ]
  },
  {
   "cell_type": "code",
   "execution_count": 68,
   "metadata": {},
   "outputs": [],
   "source": [
    "colors = ['blue', 'red', 'green', 'yellow', 'magenta']"
   ]
  },
  {
   "cell_type": "markdown",
   "metadata": {},
   "source": [
    "### **Problem 7**\n",
    "- Using bracket syntax, print out the last item in your colors array."
   ]
  },
  {
   "cell_type": "code",
   "execution_count": 69,
   "metadata": {},
   "outputs": [
    {
     "name": "stdout",
     "output_type": "stream",
     "text": [
      "magenta\n"
     ]
    }
   ],
   "source": [
    "colors = ['blue', 'red', 'green', 'yellow', 'magenta']\n",
    "\n",
    "print (colors[-1])"
   ]
  },
  {
   "cell_type": "markdown",
   "metadata": {},
   "source": [
    "**For Problems 8 & 9 use the following lines of code:**\n",
    "```py\n",
    "numbers = [1,2,3,4,5,6,7,8,9,10]\n",
    "```\n",
    "\n",
    "### **Problem 8**\n",
    "- Use a for-in loop to iterate over the `numbers` array and print each number."
   ]
  },
  {
   "cell_type": "code",
   "execution_count": 70,
   "metadata": {},
   "outputs": [
    {
     "name": "stdout",
     "output_type": "stream",
     "text": [
      "1\n",
      "2\n",
      "3\n",
      "4\n",
      "5\n",
      "6\n",
      "7\n",
      "8\n",
      "9\n",
      "10\n"
     ]
    }
   ],
   "source": [
    "numbers = [1,2,3,4,5,6,7,8,9,10]\n",
    "\n",
    "for num in numbers:\n",
    "    print (num)"
   ]
  },
  {
   "cell_type": "markdown",
   "metadata": {},
   "source": [
    "### **Problem 9**\n",
    "- Create an empty array called `even_numbers`.\n",
    "- Use a for-in loop to iterate over the `numbers` array, and if a number is even, add  it to the `even_numbers` array."
   ]
  },
  {
   "cell_type": "code",
   "execution_count": 71,
   "metadata": {},
   "outputs": [
    {
     "name": "stdout",
     "output_type": "stream",
     "text": [
      "5 odds and 5 evens.\n"
     ]
    }
   ],
   "source": [
    "numbers = [1,2,3,4,5,6,7,8,9,10]\n",
    "odds = 0\n",
    "evens = 0\n",
    "\n",
    "for num in numbers:\n",
    "    if (num % 2 == 0):\n",
    "        evens += 1\n",
    "    else:\n",
    "        odds += 1\n",
    "\n",
    "print (odds, \"odds and\", evens, \"evens.\")\n"
   ]
  },
  {
   "cell_type": "markdown",
   "metadata": {},
   "source": [
    "### **Problem 10**\n",
    "`score = 74`\n",
    "\n",
    "\n",
    "- Determine if the letter grade of the given variable 'score'. If the variable is a 90 or above, console-log an 'A', between 80 and 89, console-log a 'B', between 70 and 79, 'C', between 60 and 69, 'D', and anything below 60 should console-log an 'F'."
   ]
  },
  {
   "cell_type": "code",
   "execution_count": 72,
   "metadata": {},
   "outputs": [
    {
     "name": "stdout",
     "output_type": "stream",
     "text": [
      "A\n"
     ]
    }
   ],
   "source": [
    "score = 94\n",
    "\n",
    "def letter_gen(val):\n",
    "    if (val >= 90):\n",
    "        return \"A\"\n",
    "    elif (val >= 80 and val <= 89):\n",
    "        return \"B\"\n",
    "    elif (val >=70 and val <= 79):\n",
    "        return \"C\"\n",
    "    elif (val >=60 and val <= 69):\n",
    "        return \"D\"\n",
    "    else:\n",
    "        return \"F\"\n",
    "\n",
    "print (letter_gen(score))"
   ]
  },
  {
   "cell_type": "markdown",
   "metadata": {},
   "source": [
    "### **Project 11**\n",
    "- Create a variable called 'changeMyMind' and set it equal to true. \n",
    "- Check to see if changeMyMind is set to true or false, if it is true, change the status to false, if it is false, change the status to true."
   ]
  },
  {
   "cell_type": "code",
   "execution_count": 73,
   "metadata": {},
   "outputs": [
    {
     "name": "stdout",
     "output_type": "stream",
     "text": [
      "False\n"
     ]
    }
   ],
   "source": [
    "change_my_mind = True\n",
    "\n",
    "def mind_change(bool):\n",
    "    if (bool == True):\n",
    "        return \"False\"\n",
    "    else:\n",
    "        return \"True\"\n",
    "\n",
    "\n",
    "print (mind_change(change_my_mind))\n"
   ]
  },
  {
   "cell_type": "markdown",
   "metadata": {},
   "source": [
    "**For problems 12-15, use the following line of code:**\n",
    "`friends = ['Joe', 'Sally', 'Camilo', 'Perry', 'Susan']`\n",
    "\n",
    "### **Problem 12**\n",
    "\n",
    "- Research to find the Python method that allows you to add an element to the end of the array (similar to push() in JavaScript), then add a name to the end of the `friends` array.\n",
    "\n",
    "\n"
   ]
  },
  {
   "cell_type": "code",
   "execution_count": 74,
   "metadata": {},
   "outputs": [
    {
     "name": "stdout",
     "output_type": "stream",
     "text": [
      "Batman\n"
     ]
    }
   ],
   "source": [
    "friends = ['Joe', 'Sally', 'Camilo', 'Perry', 'Susan']\n",
    "\n",
    "friends.append('Batman')\n",
    "\n",
    "print(friends[-1])"
   ]
  },
  {
   "cell_type": "markdown",
   "metadata": {},
   "source": [
    "### **Problem 13**\n",
    "- Print out the total amount of elements in the `friends` array. The Python method you are looking for is similar to the JavaScript property `.length`."
   ]
  },
  {
   "cell_type": "code",
   "execution_count": 75,
   "metadata": {},
   "outputs": [
    {
     "name": "stdout",
     "output_type": "stream",
     "text": [
      "5\n"
     ]
    }
   ],
   "source": [
    "friends = ['Joe', 'Sally', 'Camilo', 'Perry', 'Susan']\n",
    "\n",
    "print (len(friends))\n",
    "\n",
    "# x = len(friends)\n",
    "\n",
    "# print (x)"
   ]
  },
  {
   "cell_type": "markdown",
   "metadata": {},
   "source": [
    "### **Problem 14**\n",
    "- Add a name into the third position in the array (index 2). Make sure you are not overwriting the value that is already there."
   ]
  },
  {
   "cell_type": "code",
   "execution_count": 76,
   "metadata": {},
   "outputs": [
    {
     "name": "stdout",
     "output_type": "stream",
     "text": [
      "Tomato\n"
     ]
    }
   ],
   "source": [
    "friends = ['Joe', 'Sally', 'Camilo', 'Perry', 'Susan']\n",
    "\n",
    "friends.insert(3, \"Tomato\")\n",
    "\n",
    "print (friends[3])"
   ]
  },
  {
   "cell_type": "markdown",
   "metadata": {},
   "source": [
    "### **Problem 15**\n",
    "\n",
    "-  Remove the last item in the array (try to think about how you can do this dynamically, meaning, if the array contents were to change, your code would still work)."
   ]
  },
  {
   "cell_type": "code",
   "execution_count": 77,
   "metadata": {},
   "outputs": [
    {
     "name": "stdout",
     "output_type": "stream",
     "text": [
      "['Joe', 'Sally', 'Camilo', 'Perry']\n"
     ]
    }
   ],
   "source": [
    "friends = ['Joe', 'Sally', 'Camilo', 'Perry', 'Susan']\n",
    "\n",
    "friends.pop(-1)\n",
    "\n",
    "print (friends)"
   ]
  },
  {
   "cell_type": "markdown",
   "metadata": {},
   "source": [
    "## **Part 2**\n",
    "\n",
    "**1.)** Loop through all the data and print each row."
   ]
  },
  {
   "cell_type": "code",
   "execution_count": 78,
   "metadata": {},
   "outputs": [
    {
     "name": "stdout",
     "output_type": "stream",
     "text": [
      "Joe,Smith,Chocolate,4,3.99\n",
      "\n",
      "Eric,Williams,Vanilla,12,2.99\n",
      "\n",
      "Tyler,Purchase,Chocolate,6,3.99\n",
      "\n",
      "Riley,Weatherly,Vanilla,2,2.99\n",
      "\n",
      "Brittany,Morgan,Chocolate,50,1.99\n",
      "\n",
      "Jimmy,Wade,Strawberry,8,4.99\n",
      "\n",
      "Jeff,Garcia,Strawberry,12,4.99\n",
      "\n",
      "Amy,Stark,Chocolate,12,3.99\n",
      "\n",
      "Karl,Jenson,Strawberry,1,4.99\n",
      "\n",
      "Sally,Gains,Vanilla,100,2.99\n",
      "\n",
      "Ron,Blake,Chocolate,10,3.99\n",
      "\n",
      "Daniel,Montenegro,Strawberry,5,3.99\n",
      "\n",
      "Catherine,Alexander,Vanilla,20,1.49\n",
      "\n",
      "Sharleen,Reed,Strawberry,4,4.99\n",
      "\n",
      "Richard,Prentis,Chocolate,2,3.99\n",
      "\n",
      "Jenny,Anderson,Strawberry,1,4.99\n",
      "\n",
      "Kevin,Salvatore,Chocolate,5,3.99\n",
      "\n",
      "Barry,Brown,Chocolate,8,1.00\n",
      "\n",
      "Jayna,Gilbert,Vanilla,6,2.99\n",
      "\n",
      "Laura,Cooper,Chocolate,1,3.99\n",
      "\n",
      "Lynn,Scott,Strawberry,4,2.50\n"
     ]
    }
   ],
   "source": [
    "open_file = open('CupcakeInvoices.csv')\n",
    "\n",
    "for file in open_file:\n",
    "    print (file)\n",
    "    \n",
    "open_file.close()"
   ]
  },
  {
   "cell_type": "markdown",
   "metadata": {},
   "source": [
    "**2)** Loop through all the data and print the type of cupcakes purchased."
   ]
  },
  {
   "cell_type": "code",
   "execution_count": 79,
   "metadata": {},
   "outputs": [
    {
     "name": "stdout",
     "output_type": "stream",
     "text": [
      "Chocolate\n",
      "Vanilla\n",
      "Chocolate\n",
      "Vanilla\n",
      "Chocolate\n",
      "Strawberry\n",
      "Strawberry\n",
      "Chocolate\n",
      "Strawberry\n",
      "Vanilla\n",
      "Chocolate\n",
      "Strawberry\n",
      "Vanilla\n",
      "Strawberry\n",
      "Chocolate\n",
      "Strawberry\n",
      "Chocolate\n",
      "Chocolate\n",
      "Vanilla\n",
      "Chocolate\n",
      "Strawberry\n"
     ]
    }
   ],
   "source": [
    "open_file = open('CupcakeInvoices.csv')\n",
    "\n",
    "for file in open_file:\n",
    "    file.strip()\n",
    "    values = file.split(',')\n",
    "    print (values[2])\n",
    "open_file.close()"
   ]
  },
  {
   "cell_type": "markdown",
   "metadata": {},
   "source": [
    "**3)** Loop through all the data and print out the total for each invoice (Note: this data is not provided by the csv, you will need to calculate it. Also, keep in mind the data from the csv comes back as a string, you will need to convert it to a float. Research how to do this.)."
   ]
  },
  {
   "cell_type": "code",
   "execution_count": 80,
   "metadata": {},
   "outputs": [
    {
     "name": "stdout",
     "output_type": "stream",
     "text": [
      "15.96\n",
      "35.88\n",
      "23.94\n",
      "5.98\n",
      "99.5\n",
      "39.92\n",
      "59.88\n",
      "47.88\n",
      "4.99\n",
      "299.0\n",
      "39.900000000000006\n",
      "19.950000000000003\n",
      "29.8\n",
      "19.96\n",
      "7.98\n",
      "4.99\n",
      "19.950000000000003\n",
      "8.0\n",
      "17.94\n",
      "3.99\n",
      "10.0\n"
     ]
    }
   ],
   "source": [
    "open_file = open('CupcakeInvoices.csv')\n",
    "\n",
    "for file in open_file:\n",
    "    file.strip()\n",
    "    values = file.split(',')\n",
    "    multiplier = float(values[3])\n",
    "    cost = float(values[4])\n",
    "    print (multiplier * cost)\n",
    "open_file.close()"
   ]
  },
  {
   "cell_type": "markdown",
   "metadata": {},
   "source": [
    "**4)** Loop through all the data, and print out the total for all invoices combined"
   ]
  },
  {
   "cell_type": "code",
   "execution_count": 81,
   "metadata": {},
   "outputs": [
    {
     "name": "stdout",
     "output_type": "stream",
     "text": [
      "815.3900000000002\n"
     ]
    }
   ],
   "source": [
    "open_file = open('CupcakeInvoices.csv')\n",
    "total_invoice = 0\n",
    "\n",
    "for file in open_file:\n",
    "    file.strip()\n",
    "    values = file.split(',')\n",
    "    multiplier = float(values[3])\n",
    "    cost = float(values[4])\n",
    "    total_invoice += multiplier * cost\n",
    "print (total_invoice)\n",
    "\n",
    "open_file.close()"
   ]
  },
  {
   "cell_type": "markdown",
   "metadata": {},
   "source": [
    "## **Part 3**"
   ]
  }
 ],
 "metadata": {
  "interpreter": {
   "hash": "213bdab8361921d46ba3554a48a5c81d8164a3e83ec7f2713aa29fd22b535208"
  },
  "kernelspec": {
   "display_name": "Python 3.10.0 64-bit",
   "language": "python",
   "name": "python3"
  },
  "language_info": {
   "codemirror_mode": {
    "name": "ipython",
    "version": 3
   },
   "file_extension": ".py",
   "mimetype": "text/x-python",
   "name": "python",
   "nbconvert_exporter": "python",
   "pygments_lexer": "ipython3",
   "version": "3.10.0"
  },
  "orig_nbformat": 4
 },
 "nbformat": 4,
 "nbformat_minor": 2
}
