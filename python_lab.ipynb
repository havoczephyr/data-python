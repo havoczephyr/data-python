{
 "cells": [
  {
   "cell_type": "markdown",
   "metadata": {},
   "source": [
    "### **Problem 1**\n",
    "- Create a variable that holds the value of your first name."
   ]
  },
  {
   "cell_type": "code",
   "execution_count": null,
   "metadata": {},
   "outputs": [],
   "source": [
    "first_name = 'Giovanni'"
   ]
  },
  {
   "cell_type": "markdown",
   "metadata": {},
   "source": [
    "### **Problem 2**\n",
    "- Create a variable that holds the value of your favorite number."
   ]
  },
  {
   "cell_type": "code",
   "execution_count": null,
   "metadata": {},
   "outputs": [],
   "source": [
    "favorite_number = 9"
   ]
  },
  {
   "cell_type": "markdown",
   "metadata": {},
   "source": [
    "### **Problem 3**\n",
    "- Create a variable that holds a boolean value representing if your hair is brown."
   ]
  },
  {
   "cell_type": "code",
   "execution_count": null,
   "metadata": {},
   "outputs": [],
   "source": [
    "brown_hair = False"
   ]
  },
  {
   "cell_type": "markdown",
   "metadata": {},
   "source": [
    "### **Problem 4**\n",
    "- Print your first name, by printing the variable created in problem 1."
   ]
  },
  {
   "cell_type": "code",
   "execution_count": null,
   "metadata": {},
   "outputs": [],
   "source": [
    "first_name = 'Giovanni'\n",
    "\n",
    "print (first_name)"
   ]
  },
  {
   "cell_type": "markdown",
   "metadata": {},
   "source": [
    "### **Problem 5**\n",
    "- Create a variable called `loves_code` and set it equal to true. \n",
    "- Check to see if `loves_code` is equal to true or false. \n",
    "-  If it is true, print \"I love to code!\"\n",
    "-  If it is not, print \"Coding has it's challenges.\""
   ]
  },
  {
   "cell_type": "code",
   "execution_count": 2,
   "metadata": {},
   "outputs": [
    {
     "name": "stdout",
     "output_type": "stream",
     "text": [
      "I love to code!\n"
     ]
    }
   ],
   "source": [
    "loves_code = True\n",
    "\n",
    "if (loves_code == True):\n",
    "    print (\"I love to code!\")\n",
    "else:\n",
    "    print (\"Coding has its challenges.\")"
   ]
  },
  {
   "cell_type": "markdown",
   "metadata": {},
   "source": [
    "### **Problem 6**\n",
    "- Create an array called `colors` and set it equal to a list of at least five colors."
   ]
  },
  {
   "cell_type": "code",
   "execution_count": null,
   "metadata": {},
   "outputs": [],
   "source": [
    "colors = ['blue', 'red', 'green', 'yellow', 'magenta']"
   ]
  },
  {
   "cell_type": "markdown",
   "metadata": {},
   "source": [
    "### **Problem 7**\n",
    "- Using bracket syntax, print out the last item in your colors array."
   ]
  },
  {
   "cell_type": "code",
   "execution_count": 4,
   "metadata": {},
   "outputs": [
    {
     "name": "stdout",
     "output_type": "stream",
     "text": [
      "magenta\n"
     ]
    }
   ],
   "source": [
    "colors = ['blue', 'red', 'green', 'yellow', 'magenta']\n",
    "\n",
    "print (colors[-1])"
   ]
  },
  {
   "cell_type": "markdown",
   "metadata": {},
   "source": [
    "**For Problems 8 & 9 use the following lines of code:**\n",
    "```py\n",
    "numbers = [1,2,3,4,5,6,7,8,9,10]\n",
    "```\n",
    "\n",
    "### **Problem 8**\n",
    "- Use a for-in loop to iterate over the `numbers` array and print each number."
   ]
  },
  {
   "cell_type": "code",
   "execution_count": 5,
   "metadata": {},
   "outputs": [
    {
     "name": "stdout",
     "output_type": "stream",
     "text": [
      "1\n",
      "2\n",
      "3\n",
      "4\n",
      "5\n",
      "6\n",
      "7\n",
      "8\n",
      "9\n",
      "10\n"
     ]
    }
   ],
   "source": [
    "numbers = [1,2,3,4,5,6,7,8,9,10]\n",
    "\n",
    "for num in numbers:\n",
    "    print (num)"
   ]
  },
  {
   "cell_type": "markdown",
   "metadata": {},
   "source": [
    "### **Problem 9**\n",
    "- Create an empty array called `even_numbers`.\n",
    "- Use a for-in loop to iterate over the `numbers` array, and if a number is even, add  it to the `even_numbers` array."
   ]
  },
  {
   "cell_type": "code",
   "execution_count": 8,
   "metadata": {},
   "outputs": [
    {
     "name": "stdout",
     "output_type": "stream",
     "text": [
      "5 odds and 5 evens.\n"
     ]
    }
   ],
   "source": [
    "numbers = [1,2,3,4,5,6,7,8,9,10]\n",
    "odds = 0\n",
    "evens = 0\n",
    "\n",
    "for num in numbers:\n",
    "    if (num % 2 == 0):\n",
    "        evens += 1\n",
    "    else:\n",
    "        odds += 1\n",
    "\n",
    "print (odds, \"odds and\", evens, \"evens.\")\n"
   ]
  },
  {
   "cell_type": "markdown",
   "metadata": {},
   "source": [
    "### **Problem 10**\n",
    "`score = 74`\n",
    "\n",
    "\n",
    "- Determine if the letter grade of the given variable 'score'. If the variable is a 90 or above, console-log an 'A', between 80 and 89, console-log a 'B', between 70 and 79, 'C', between 60 and 69, 'D', and anything below 60 should console-log an 'F'."
   ]
  },
  {
   "cell_type": "code",
   "execution_count": 16,
   "metadata": {},
   "outputs": [
    {
     "name": "stdout",
     "output_type": "stream",
     "text": [
      "A\n"
     ]
    }
   ],
   "source": [
    "score = 94\n",
    "\n",
    "def letter_gen(val):\n",
    "    if (val >= 90):\n",
    "        return \"A\"\n",
    "    elif (val >= 80 and val <= 89):\n",
    "        return \"B\"\n",
    "    elif (val >=70 and val <= 79):\n",
    "        return \"C\"\n",
    "    elif (val >=60 and val <= 69):\n",
    "        return \"D\"\n",
    "    else:\n",
    "        return \"F\"\n",
    "\n",
    "print (letterGen(score))"
   ]
  },
  {
   "cell_type": "markdown",
   "metadata": {},
   "source": [
    "### **Project 11**\n",
    "- Create a variable called 'changeMyMind' and set it equal to true. \n",
    "- Check to see if changeMyMind is set to true or false, if it is true, change the status to false, if it is false, change the status to true."
   ]
  },
  {
   "cell_type": "code",
   "execution_count": 4,
   "metadata": {},
   "outputs": [
    {
     "name": "stdout",
     "output_type": "stream",
     "text": [
      "False\n"
     ]
    }
   ],
   "source": [
    "change_my_mind = True\n",
    "\n",
    "def mind_change(bool):\n",
    "    if (bool == True):\n",
    "        return \"False\"\n",
    "    else:\n",
    "        return \"True\"\n",
    "\n",
    "\n",
    "print (mind_change(change_my_mind))\n"
   ]
  },
  {
   "cell_type": "markdown",
   "metadata": {},
   "source": [
    "**For problems 12-15, use the following line of code:**\n",
    "`friends = ['Joe', 'Sally', 'Camilo', 'Perry', 'Susan']`\n",
    "\n",
    "### **Problem 12**\n",
    "\n",
    "- Research to find the Python method that allows you to add an element to the end of the array (similar to push() in JavaScript), then add a name to the end of the `friends` array.\n",
    "\n",
    "\n"
   ]
  },
  {
   "cell_type": "code",
   "execution_count": null,
   "metadata": {},
   "outputs": [],
   "source": [
    "friends = ['Joe', 'Sally', 'Camilo', 'Perry', 'Susan']\n",
    "\n",
    "friends.append('Batman')\n",
    "\n",
    "print(friends[-1])"
   ]
  }
 ],
 "metadata": {
  "interpreter": {
   "hash": "213bdab8361921d46ba3554a48a5c81d8164a3e83ec7f2713aa29fd22b535208"
  },
  "kernelspec": {
   "display_name": "Python 3.10.0 64-bit",
   "language": "python",
   "name": "python3"
  },
  "language_info": {
   "codemirror_mode": {
    "name": "ipython",
    "version": 3
   },
   "file_extension": ".py",
   "mimetype": "text/x-python",
   "name": "python",
   "nbconvert_exporter": "python",
   "pygments_lexer": "ipython3",
   "version": "3.10.0"
  },
  "orig_nbformat": 4
 },
 "nbformat": 4,
 "nbformat_minor": 2
}
